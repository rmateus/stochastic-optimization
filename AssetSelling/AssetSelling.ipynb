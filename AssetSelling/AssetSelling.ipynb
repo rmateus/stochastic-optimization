{
 "cells": [
  {
   "cell_type": "markdown",
   "metadata": {},
   "source": [
    "# An Asset Selling Model\n",
    "In this notebook you will optimize some simple parametric policies for the asset selling problem.\n",
    "\n",
    "We start by creating an instance of the model and an instance of a policy. Let's start with the Sell-Low-policy. First, we instantiatie a model and specify the initial value for the state (price) and the length of the time horizon T in the constructor. It would also be possible to exert more control on the exogenous information process by specifying parameters for it, that are used inside the process."
   ]
  },
  {
   "cell_type": "code",
   "execution_count": 1,
   "metadata": {},
   "outputs": [],
   "source": [
    "import numpy as np\n",
    "import pandas as pd\n",
    "import plotly.express as px\n",
    "import AssetSellingModel as asm\n",
    "import AssetSellingPolicies as asp\n",
    "import BaseClasses.Util as util\n",
    "\n",
    "model = asm.AssetSellingModel(S0={\"price\": 20}, T=30)"
   ]
  },
  {
   "cell_type": "markdown",
   "metadata": {},
   "source": [
    "Next, we create a policy for this model. The high-low-policy has two tunable parameters, namely `theta_low` and `theta_high`.\n",
    "Then, we run the policy for 100 iterations/episodes. The `run_policy` method returns the average objective function value over all episodes."
   ]
  },
  {
   "cell_type": "code",
   "execution_count": 2,
   "metadata": {},
   "outputs": [
    {
     "data": {
      "text/plain": [
       "20.404837312953806"
      ]
     },
     "execution_count": 2,
     "metadata": {},
     "output_type": "execute_result"
    }
   ],
   "source": [
    "high_low_policy = asp.HighLowPolicy(model=model, theta_low=10, theta_high=30)\n",
    "high_low_policy.run_policy(n_iterations=100)"
   ]
  },
  {
   "cell_type": "markdown",
   "metadata": {},
   "source": [
    "## Exercise 1\n",
    "Execute the cell several times. How do you explain that the result is different every time? Do you notice any difference in this behavior if you change the number of iteration to 10, 1000, 10000?\n",
    "\n",
    "---"
   ]
  },
  {
   "cell_type": "markdown",
   "metadata": {},
   "source": [
    "We investigate the results in more detail. The results of a policy run are stored in an in a DataFrame called results. Every row corresponds to one timestep of one iteration/episode."
   ]
  },
  {
   "cell_type": "code",
   "execution_count": 3,
   "metadata": {},
   "outputs": [
    {
     "data": {
      "text/html": [
       "<div>\n",
       "<style scoped>\n",
       "    .dataframe tbody tr th:only-of-type {\n",
       "        vertical-align: middle;\n",
       "    }\n",
       "\n",
       "    .dataframe tbody tr th {\n",
       "        vertical-align: top;\n",
       "    }\n",
       "\n",
       "    .dataframe thead th {\n",
       "        text-align: right;\n",
       "    }\n",
       "</style>\n",
       "<table border=\"1\" class=\"dataframe\">\n",
       "  <thead>\n",
       "    <tr style=\"text-align: right;\">\n",
       "      <th></th>\n",
       "      <th>N</th>\n",
       "      <th>t</th>\n",
       "      <th>C_t sum</th>\n",
       "      <th>price</th>\n",
       "      <th>bias</th>\n",
       "      <th>price_smoothed</th>\n",
       "      <th>resource</th>\n",
       "      <th>sell</th>\n",
       "      <th>t_end</th>\n",
       "      <th>C_t</th>\n",
       "    </tr>\n",
       "  </thead>\n",
       "  <tbody>\n",
       "    <tr>\n",
       "      <th>0</th>\n",
       "      <td>0</td>\n",
       "      <td>0</td>\n",
       "      <td>0.000000</td>\n",
       "      <td>20.000000</td>\n",
       "      <td>Neutral</td>\n",
       "      <td>20.000000</td>\n",
       "      <td>1</td>\n",
       "      <td>0.0</td>\n",
       "      <td>22</td>\n",
       "      <td>0.000000</td>\n",
       "    </tr>\n",
       "    <tr>\n",
       "      <th>1</th>\n",
       "      <td>0</td>\n",
       "      <td>1</td>\n",
       "      <td>0.000000</td>\n",
       "      <td>17.776240</td>\n",
       "      <td>Neutral</td>\n",
       "      <td>18.443368</td>\n",
       "      <td>1</td>\n",
       "      <td>0.0</td>\n",
       "      <td>22</td>\n",
       "      <td>0.000000</td>\n",
       "    </tr>\n",
       "    <tr>\n",
       "      <th>2</th>\n",
       "      <td>0</td>\n",
       "      <td>2</td>\n",
       "      <td>0.000000</td>\n",
       "      <td>19.414044</td>\n",
       "      <td>Up</td>\n",
       "      <td>19.122841</td>\n",
       "      <td>1</td>\n",
       "      <td>0.0</td>\n",
       "      <td>22</td>\n",
       "      <td>0.000000</td>\n",
       "    </tr>\n",
       "    <tr>\n",
       "      <th>3</th>\n",
       "      <td>0</td>\n",
       "      <td>3</td>\n",
       "      <td>0.000000</td>\n",
       "      <td>20.972127</td>\n",
       "      <td>Up</td>\n",
       "      <td>20.417341</td>\n",
       "      <td>1</td>\n",
       "      <td>0.0</td>\n",
       "      <td>22</td>\n",
       "      <td>0.000000</td>\n",
       "    </tr>\n",
       "    <tr>\n",
       "      <th>4</th>\n",
       "      <td>0</td>\n",
       "      <td>4</td>\n",
       "      <td>0.000000</td>\n",
       "      <td>23.993157</td>\n",
       "      <td>Up</td>\n",
       "      <td>22.920412</td>\n",
       "      <td>1</td>\n",
       "      <td>0.0</td>\n",
       "      <td>22</td>\n",
       "      <td>0.000000</td>\n",
       "    </tr>\n",
       "    <tr>\n",
       "      <th>...</th>\n",
       "      <td>...</td>\n",
       "      <td>...</td>\n",
       "      <td>...</td>\n",
       "      <td>...</td>\n",
       "      <td>...</td>\n",
       "      <td>...</td>\n",
       "      <td>...</td>\n",
       "      <td>...</td>\n",
       "      <td>...</td>\n",
       "      <td>...</td>\n",
       "    </tr>\n",
       "    <tr>\n",
       "      <th>1732</th>\n",
       "      <td>99</td>\n",
       "      <td>8</td>\n",
       "      <td>0.000000</td>\n",
       "      <td>15.706782</td>\n",
       "      <td>Neutral</td>\n",
       "      <td>16.503775</td>\n",
       "      <td>1</td>\n",
       "      <td>0.0</td>\n",
       "      <td>12</td>\n",
       "      <td>0.000000</td>\n",
       "    </tr>\n",
       "    <tr>\n",
       "      <th>1733</th>\n",
       "      <td>99</td>\n",
       "      <td>9</td>\n",
       "      <td>0.000000</td>\n",
       "      <td>12.204026</td>\n",
       "      <td>Down</td>\n",
       "      <td>13.493951</td>\n",
       "      <td>1</td>\n",
       "      <td>0.0</td>\n",
       "      <td>12</td>\n",
       "      <td>0.000000</td>\n",
       "    </tr>\n",
       "    <tr>\n",
       "      <th>1734</th>\n",
       "      <td>99</td>\n",
       "      <td>10</td>\n",
       "      <td>0.000000</td>\n",
       "      <td>10.267158</td>\n",
       "      <td>Down</td>\n",
       "      <td>11.235196</td>\n",
       "      <td>1</td>\n",
       "      <td>0.0</td>\n",
       "      <td>12</td>\n",
       "      <td>0.000000</td>\n",
       "    </tr>\n",
       "    <tr>\n",
       "      <th>1735</th>\n",
       "      <td>99</td>\n",
       "      <td>11</td>\n",
       "      <td>0.000000</td>\n",
       "      <td>6.957769</td>\n",
       "      <td>Down</td>\n",
       "      <td>8.240997</td>\n",
       "      <td>1</td>\n",
       "      <td>1.0</td>\n",
       "      <td>12</td>\n",
       "      <td>6.957769</td>\n",
       "    </tr>\n",
       "    <tr>\n",
       "      <th>1736</th>\n",
       "      <td>99</td>\n",
       "      <td>12</td>\n",
       "      <td>6.957769</td>\n",
       "      <td>4.766967</td>\n",
       "      <td>Neutral</td>\n",
       "      <td>5.809176</td>\n",
       "      <td>0</td>\n",
       "      <td>NaN</td>\n",
       "      <td>12</td>\n",
       "      <td>NaN</td>\n",
       "    </tr>\n",
       "  </tbody>\n",
       "</table>\n",
       "<p>1737 rows × 10 columns</p>\n",
       "</div>"
      ],
      "text/plain": [
       "       N   t   C_t sum      price     bias  price_smoothed  resource  sell  \\\n",
       "0      0   0  0.000000  20.000000  Neutral       20.000000         1   0.0   \n",
       "1      0   1  0.000000  17.776240  Neutral       18.443368         1   0.0   \n",
       "2      0   2  0.000000  19.414044       Up       19.122841         1   0.0   \n",
       "3      0   3  0.000000  20.972127       Up       20.417341         1   0.0   \n",
       "4      0   4  0.000000  23.993157       Up       22.920412         1   0.0   \n",
       "...   ..  ..       ...        ...      ...             ...       ...   ...   \n",
       "1732  99   8  0.000000  15.706782  Neutral       16.503775         1   0.0   \n",
       "1733  99   9  0.000000  12.204026     Down       13.493951         1   0.0   \n",
       "1734  99  10  0.000000  10.267158     Down       11.235196         1   0.0   \n",
       "1735  99  11  0.000000   6.957769     Down        8.240997         1   1.0   \n",
       "1736  99  12  6.957769   4.766967  Neutral        5.809176         0   NaN   \n",
       "\n",
       "      t_end       C_t  \n",
       "0        22  0.000000  \n",
       "1        22  0.000000  \n",
       "2        22  0.000000  \n",
       "3        22  0.000000  \n",
       "4        22  0.000000  \n",
       "...     ...       ...  \n",
       "1732     12  0.000000  \n",
       "1733     12  0.000000  \n",
       "1734     12  0.000000  \n",
       "1735     12  6.957769  \n",
       "1736     12       NaN  \n",
       "\n",
       "[1737 rows x 10 columns]"
      ]
     },
     "execution_count": 3,
     "metadata": {},
     "output_type": "execute_result"
    }
   ],
   "source": [
    "high_low_policy.results"
   ]
  },
  {
   "cell_type": "markdown",
   "metadata": {},
   "source": [
    "Next we plot a few of the 100 paths using plotly. We notice that if the price never drops below `theta_low` the asset is sold at the end of the time horizon."
   ]
  },
  {
   "cell_type": "code",
   "execution_count": 4,
   "metadata": {},
   "outputs": [
    {
     "data": {
      "application/vnd.plotly.v1+json": {
       "config": {
        "plotlyServerURL": "https://plot.ly"
       },
       "data": [
        {
         "hovertemplate": "N=27<br>t=%{x}<br>price=%{y}<extra></extra>",
         "legendgroup": "",
         "line": {
          "color": "#636efa",
          "dash": "solid"
         },
         "marker": {
          "symbol": "circle"
         },
         "mode": "lines",
         "name": "",
         "orientation": "v",
         "showlegend": false,
         "type": "scatter",
         "x": {
          "bdata": "AAECAwQFBgc=",
          "dtype": "i1"
         },
         "xaxis": "x5",
         "y": {
          "bdata": "AAAAAAAANEA1F6Sh89Y1QD83jSWmdzVAQNPQl44aMUBCo4ICTywpQJI7XU+9+CVAfAOgP6PAIEB6L/xVNBIMQA==",
          "dtype": "f8"
         },
         "yaxis": "y5"
        },
        {
         "hovertemplate": "N=40<br>t=%{x}<br>price=%{y}<extra></extra>",
         "legendgroup": "",
         "line": {
          "color": "#636efa",
          "dash": "solid"
         },
         "marker": {
          "symbol": "circle"
         },
         "mode": "lines",
         "name": "",
         "orientation": "v",
         "showlegend": false,
         "type": "scatter",
         "x": {
          "bdata": "AAECAwQFBgcICQoLDA0ODxAREhMUFRYXGA==",
          "dtype": "i1"
         },
         "xaxis": "x4",
         "y": {
          "bdata": "AAAAAAAANEAOpFIigR8zQLKIeKZeaTVAQH1LH/n2NUDlkCfMzqk0QPMsI3z7wTRAUyHSg2XsMUBo3sACldwwQLwZq5tT3jNAJfJIqHr4MUAAK1HTCRsxQMJDBI+T5ytAd8z2sQaULEDiAdH14H0nQFRQYUugrSZA0H+hY+SyKEC3IJ55dLAlQF4x+VRn8iVAfEnTy3xeJUAsaUqgiI4nQICO0a0p1idAbEFGnd/+KkCy0UIxM/MnQDgvhT2B1iBAJO/F8qCGEEA=",
          "dtype": "f8"
         },
         "yaxis": "y4"
        },
        {
         "hovertemplate": "N=50<br>t=%{x}<br>price=%{y}<extra></extra>",
         "legendgroup": "",
         "line": {
          "color": "#636efa",
          "dash": "solid"
         },
         "marker": {
          "symbol": "circle"
         },
         "mode": "lines",
         "name": "",
         "orientation": "v",
         "showlegend": false,
         "type": "scatter",
         "x": {
          "bdata": "AAECAwQFBgcICQoLDA0ODxAREhMUFRYXGBkaGxwdHg==",
          "dtype": "i1"
         },
         "xaxis": "x3",
         "y": {
          "bdata": "AAAAAAAANECUtnXYI4gzQKRCPN34NDRAh592vWKUMUCXMCssWVsyQKIBUuBi0zJAEZuTWXB6MkB02wZc9YkxQIK4jt2jWTFAJsBZqqktMUDV+NuWRD0wQEqvxBHLgihAyjdWxWm2L0BlQUEM1AExQNwRe5hAoTNAbcUyZILgM0AsUGAJ2qExQLpuqD+iljFAVrNecM0+M0BJvpZMU2QwQCRY7LzF9zJAfOe57UofMkA5Xydx2Y8zQD85HJt1dDdAFAz0ZskCOUCGRdBXpus8QEMCR75SBTtAtKmjt+TOOUBp9XeVfiw5QJ2RRAFO/DVAfpVQcX6WM0A=",
          "dtype": "f8"
         },
         "yaxis": "y3"
        },
        {
         "hovertemplate": "N=59<br>t=%{x}<br>price=%{y}<extra></extra>",
         "legendgroup": "",
         "line": {
          "color": "#636efa",
          "dash": "solid"
         },
         "marker": {
          "symbol": "circle"
         },
         "mode": "lines",
         "name": "",
         "orientation": "v",
         "showlegend": false,
         "type": "scatter",
         "x": {
          "bdata": "AAECAwQFBgcICQoLDA0ODxA=",
          "dtype": "i1"
         },
         "xaxis": "x2",
         "y": {
          "bdata": "AAAAAAAANEAwThGMRHM1QF+tGk30MTVAY2xSunCdMkAlaBUJlc8wQPJBj3QB3DBAzUCC/HKcMkBesnJq36IzQK6BKOeOsTRAszaE/2EPMUCilsIV34ExQGWYK4Gc1zFAcGa9jDtjMUAEWD5kOrAxQFUWdhmpjipAOhpfCAvmHkDS4ujEDuwcQA==",
          "dtype": "f8"
         },
         "yaxis": "y2"
        },
        {
         "hovertemplate": "N=98<br>t=%{x}<br>price=%{y}<extra></extra>",
         "legendgroup": "",
         "line": {
          "color": "#636efa",
          "dash": "solid"
         },
         "marker": {
          "symbol": "circle"
         },
         "mode": "lines",
         "name": "",
         "orientation": "v",
         "showlegend": false,
         "type": "scatter",
         "x": {
          "bdata": "AAECAwQFBgc=",
          "dtype": "i1"
         },
         "xaxis": "x",
         "y": {
          "bdata": "AAAAAAAANECXneQTWHw1QFhO8SqltjVAcGNCmvrHOUBVLlMojg47QHV4poFSET1ASHKsVZh1PkD0UQXQZR09QA==",
          "dtype": "f8"
         },
         "yaxis": "y"
        }
       ],
       "layout": {
        "annotations": [
         {
          "font": {},
          "showarrow": false,
          "text": "N=98",
          "textangle": 90,
          "x": 0.98,
          "xanchor": "left",
          "xref": "paper",
          "y": 0.08800000000000001,
          "yanchor": "middle",
          "yref": "paper"
         },
         {
          "font": {},
          "showarrow": false,
          "text": "N=59",
          "textangle": 90,
          "x": 0.98,
          "xanchor": "left",
          "xref": "paper",
          "y": 0.29400000000000004,
          "yanchor": "middle",
          "yref": "paper"
         },
         {
          "font": {},
          "showarrow": false,
          "text": "N=50",
          "textangle": 90,
          "x": 0.98,
          "xanchor": "left",
          "xref": "paper",
          "y": 0.5,
          "yanchor": "middle",
          "yref": "paper"
         },
         {
          "font": {},
          "showarrow": false,
          "text": "N=40",
          "textangle": 90,
          "x": 0.98,
          "xanchor": "left",
          "xref": "paper",
          "y": 0.706,
          "yanchor": "middle",
          "yref": "paper"
         },
         {
          "font": {},
          "showarrow": false,
          "text": "N=27",
          "textangle": 90,
          "x": 0.98,
          "xanchor": "left",
          "xref": "paper",
          "y": 0.912,
          "yanchor": "middle",
          "yref": "paper"
         }
        ],
        "height": 800,
        "legend": {
         "tracegroupgap": 0
        },
        "margin": {
         "t": 60
        },
        "template": {
         "data": {
          "bar": [
           {
            "error_x": {
             "color": "#2a3f5f"
            },
            "error_y": {
             "color": "#2a3f5f"
            },
            "marker": {
             "line": {
              "color": "#E5ECF6",
              "width": 0.5
             },
             "pattern": {
              "fillmode": "overlay",
              "size": 10,
              "solidity": 0.2
             }
            },
            "type": "bar"
           }
          ],
          "barpolar": [
           {
            "marker": {
             "line": {
              "color": "#E5ECF6",
              "width": 0.5
             },
             "pattern": {
              "fillmode": "overlay",
              "size": 10,
              "solidity": 0.2
             }
            },
            "type": "barpolar"
           }
          ],
          "carpet": [
           {
            "aaxis": {
             "endlinecolor": "#2a3f5f",
             "gridcolor": "white",
             "linecolor": "white",
             "minorgridcolor": "white",
             "startlinecolor": "#2a3f5f"
            },
            "baxis": {
             "endlinecolor": "#2a3f5f",
             "gridcolor": "white",
             "linecolor": "white",
             "minorgridcolor": "white",
             "startlinecolor": "#2a3f5f"
            },
            "type": "carpet"
           }
          ],
          "choropleth": [
           {
            "colorbar": {
             "outlinewidth": 0,
             "ticks": ""
            },
            "type": "choropleth"
           }
          ],
          "contour": [
           {
            "colorbar": {
             "outlinewidth": 0,
             "ticks": ""
            },
            "colorscale": [
             [
              0,
              "#0d0887"
             ],
             [
              0.1111111111111111,
              "#46039f"
             ],
             [
              0.2222222222222222,
              "#7201a8"
             ],
             [
              0.3333333333333333,
              "#9c179e"
             ],
             [
              0.4444444444444444,
              "#bd3786"
             ],
             [
              0.5555555555555556,
              "#d8576b"
             ],
             [
              0.6666666666666666,
              "#ed7953"
             ],
             [
              0.7777777777777778,
              "#fb9f3a"
             ],
             [
              0.8888888888888888,
              "#fdca26"
             ],
             [
              1,
              "#f0f921"
             ]
            ],
            "type": "contour"
           }
          ],
          "contourcarpet": [
           {
            "colorbar": {
             "outlinewidth": 0,
             "ticks": ""
            },
            "type": "contourcarpet"
           }
          ],
          "heatmap": [
           {
            "colorbar": {
             "outlinewidth": 0,
             "ticks": ""
            },
            "colorscale": [
             [
              0,
              "#0d0887"
             ],
             [
              0.1111111111111111,
              "#46039f"
             ],
             [
              0.2222222222222222,
              "#7201a8"
             ],
             [
              0.3333333333333333,
              "#9c179e"
             ],
             [
              0.4444444444444444,
              "#bd3786"
             ],
             [
              0.5555555555555556,
              "#d8576b"
             ],
             [
              0.6666666666666666,
              "#ed7953"
             ],
             [
              0.7777777777777778,
              "#fb9f3a"
             ],
             [
              0.8888888888888888,
              "#fdca26"
             ],
             [
              1,
              "#f0f921"
             ]
            ],
            "type": "heatmap"
           }
          ],
          "histogram": [
           {
            "marker": {
             "pattern": {
              "fillmode": "overlay",
              "size": 10,
              "solidity": 0.2
             }
            },
            "type": "histogram"
           }
          ],
          "histogram2d": [
           {
            "colorbar": {
             "outlinewidth": 0,
             "ticks": ""
            },
            "colorscale": [
             [
              0,
              "#0d0887"
             ],
             [
              0.1111111111111111,
              "#46039f"
             ],
             [
              0.2222222222222222,
              "#7201a8"
             ],
             [
              0.3333333333333333,
              "#9c179e"
             ],
             [
              0.4444444444444444,
              "#bd3786"
             ],
             [
              0.5555555555555556,
              "#d8576b"
             ],
             [
              0.6666666666666666,
              "#ed7953"
             ],
             [
              0.7777777777777778,
              "#fb9f3a"
             ],
             [
              0.8888888888888888,
              "#fdca26"
             ],
             [
              1,
              "#f0f921"
             ]
            ],
            "type": "histogram2d"
           }
          ],
          "histogram2dcontour": [
           {
            "colorbar": {
             "outlinewidth": 0,
             "ticks": ""
            },
            "colorscale": [
             [
              0,
              "#0d0887"
             ],
             [
              0.1111111111111111,
              "#46039f"
             ],
             [
              0.2222222222222222,
              "#7201a8"
             ],
             [
              0.3333333333333333,
              "#9c179e"
             ],
             [
              0.4444444444444444,
              "#bd3786"
             ],
             [
              0.5555555555555556,
              "#d8576b"
             ],
             [
              0.6666666666666666,
              "#ed7953"
             ],
             [
              0.7777777777777778,
              "#fb9f3a"
             ],
             [
              0.8888888888888888,
              "#fdca26"
             ],
             [
              1,
              "#f0f921"
             ]
            ],
            "type": "histogram2dcontour"
           }
          ],
          "mesh3d": [
           {
            "colorbar": {
             "outlinewidth": 0,
             "ticks": ""
            },
            "type": "mesh3d"
           }
          ],
          "parcoords": [
           {
            "line": {
             "colorbar": {
              "outlinewidth": 0,
              "ticks": ""
             }
            },
            "type": "parcoords"
           }
          ],
          "pie": [
           {
            "automargin": true,
            "type": "pie"
           }
          ],
          "scatter": [
           {
            "fillpattern": {
             "fillmode": "overlay",
             "size": 10,
             "solidity": 0.2
            },
            "type": "scatter"
           }
          ],
          "scatter3d": [
           {
            "line": {
             "colorbar": {
              "outlinewidth": 0,
              "ticks": ""
             }
            },
            "marker": {
             "colorbar": {
              "outlinewidth": 0,
              "ticks": ""
             }
            },
            "type": "scatter3d"
           }
          ],
          "scattercarpet": [
           {
            "marker": {
             "colorbar": {
              "outlinewidth": 0,
              "ticks": ""
             }
            },
            "type": "scattercarpet"
           }
          ],
          "scattergeo": [
           {
            "marker": {
             "colorbar": {
              "outlinewidth": 0,
              "ticks": ""
             }
            },
            "type": "scattergeo"
           }
          ],
          "scattergl": [
           {
            "marker": {
             "colorbar": {
              "outlinewidth": 0,
              "ticks": ""
             }
            },
            "type": "scattergl"
           }
          ],
          "scattermap": [
           {
            "marker": {
             "colorbar": {
              "outlinewidth": 0,
              "ticks": ""
             }
            },
            "type": "scattermap"
           }
          ],
          "scattermapbox": [
           {
            "marker": {
             "colorbar": {
              "outlinewidth": 0,
              "ticks": ""
             }
            },
            "type": "scattermapbox"
           }
          ],
          "scatterpolar": [
           {
            "marker": {
             "colorbar": {
              "outlinewidth": 0,
              "ticks": ""
             }
            },
            "type": "scatterpolar"
           }
          ],
          "scatterpolargl": [
           {
            "marker": {
             "colorbar": {
              "outlinewidth": 0,
              "ticks": ""
             }
            },
            "type": "scatterpolargl"
           }
          ],
          "scatterternary": [
           {
            "marker": {
             "colorbar": {
              "outlinewidth": 0,
              "ticks": ""
             }
            },
            "type": "scatterternary"
           }
          ],
          "surface": [
           {
            "colorbar": {
             "outlinewidth": 0,
             "ticks": ""
            },
            "colorscale": [
             [
              0,
              "#0d0887"
             ],
             [
              0.1111111111111111,
              "#46039f"
             ],
             [
              0.2222222222222222,
              "#7201a8"
             ],
             [
              0.3333333333333333,
              "#9c179e"
             ],
             [
              0.4444444444444444,
              "#bd3786"
             ],
             [
              0.5555555555555556,
              "#d8576b"
             ],
             [
              0.6666666666666666,
              "#ed7953"
             ],
             [
              0.7777777777777778,
              "#fb9f3a"
             ],
             [
              0.8888888888888888,
              "#fdca26"
             ],
             [
              1,
              "#f0f921"
             ]
            ],
            "type": "surface"
           }
          ],
          "table": [
           {
            "cells": {
             "fill": {
              "color": "#EBF0F8"
             },
             "line": {
              "color": "white"
             }
            },
            "header": {
             "fill": {
              "color": "#C8D4E3"
             },
             "line": {
              "color": "white"
             }
            },
            "type": "table"
           }
          ]
         },
         "layout": {
          "annotationdefaults": {
           "arrowcolor": "#2a3f5f",
           "arrowhead": 0,
           "arrowwidth": 1
          },
          "autotypenumbers": "strict",
          "coloraxis": {
           "colorbar": {
            "outlinewidth": 0,
            "ticks": ""
           }
          },
          "colorscale": {
           "diverging": [
            [
             0,
             "#8e0152"
            ],
            [
             0.1,
             "#c51b7d"
            ],
            [
             0.2,
             "#de77ae"
            ],
            [
             0.3,
             "#f1b6da"
            ],
            [
             0.4,
             "#fde0ef"
            ],
            [
             0.5,
             "#f7f7f7"
            ],
            [
             0.6,
             "#e6f5d0"
            ],
            [
             0.7,
             "#b8e186"
            ],
            [
             0.8,
             "#7fbc41"
            ],
            [
             0.9,
             "#4d9221"
            ],
            [
             1,
             "#276419"
            ]
           ],
           "sequential": [
            [
             0,
             "#0d0887"
            ],
            [
             0.1111111111111111,
             "#46039f"
            ],
            [
             0.2222222222222222,
             "#7201a8"
            ],
            [
             0.3333333333333333,
             "#9c179e"
            ],
            [
             0.4444444444444444,
             "#bd3786"
            ],
            [
             0.5555555555555556,
             "#d8576b"
            ],
            [
             0.6666666666666666,
             "#ed7953"
            ],
            [
             0.7777777777777778,
             "#fb9f3a"
            ],
            [
             0.8888888888888888,
             "#fdca26"
            ],
            [
             1,
             "#f0f921"
            ]
           ],
           "sequentialminus": [
            [
             0,
             "#0d0887"
            ],
            [
             0.1111111111111111,
             "#46039f"
            ],
            [
             0.2222222222222222,
             "#7201a8"
            ],
            [
             0.3333333333333333,
             "#9c179e"
            ],
            [
             0.4444444444444444,
             "#bd3786"
            ],
            [
             0.5555555555555556,
             "#d8576b"
            ],
            [
             0.6666666666666666,
             "#ed7953"
            ],
            [
             0.7777777777777778,
             "#fb9f3a"
            ],
            [
             0.8888888888888888,
             "#fdca26"
            ],
            [
             1,
             "#f0f921"
            ]
           ]
          },
          "colorway": [
           "#636efa",
           "#EF553B",
           "#00cc96",
           "#ab63fa",
           "#FFA15A",
           "#19d3f3",
           "#FF6692",
           "#B6E880",
           "#FF97FF",
           "#FECB52"
          ],
          "font": {
           "color": "#2a3f5f"
          },
          "geo": {
           "bgcolor": "white",
           "lakecolor": "white",
           "landcolor": "#E5ECF6",
           "showlakes": true,
           "showland": true,
           "subunitcolor": "white"
          },
          "hoverlabel": {
           "align": "left"
          },
          "hovermode": "closest",
          "mapbox": {
           "style": "light"
          },
          "paper_bgcolor": "white",
          "plot_bgcolor": "#E5ECF6",
          "polar": {
           "angularaxis": {
            "gridcolor": "white",
            "linecolor": "white",
            "ticks": ""
           },
           "bgcolor": "#E5ECF6",
           "radialaxis": {
            "gridcolor": "white",
            "linecolor": "white",
            "ticks": ""
           }
          },
          "scene": {
           "xaxis": {
            "backgroundcolor": "#E5ECF6",
            "gridcolor": "white",
            "gridwidth": 2,
            "linecolor": "white",
            "showbackground": true,
            "ticks": "",
            "zerolinecolor": "white"
           },
           "yaxis": {
            "backgroundcolor": "#E5ECF6",
            "gridcolor": "white",
            "gridwidth": 2,
            "linecolor": "white",
            "showbackground": true,
            "ticks": "",
            "zerolinecolor": "white"
           },
           "zaxis": {
            "backgroundcolor": "#E5ECF6",
            "gridcolor": "white",
            "gridwidth": 2,
            "linecolor": "white",
            "showbackground": true,
            "ticks": "",
            "zerolinecolor": "white"
           }
          },
          "shapedefaults": {
           "line": {
            "color": "#2a3f5f"
           }
          },
          "ternary": {
           "aaxis": {
            "gridcolor": "white",
            "linecolor": "white",
            "ticks": ""
           },
           "baxis": {
            "gridcolor": "white",
            "linecolor": "white",
            "ticks": ""
           },
           "bgcolor": "#E5ECF6",
           "caxis": {
            "gridcolor": "white",
            "linecolor": "white",
            "ticks": ""
           }
          },
          "title": {
           "x": 0.05
          },
          "xaxis": {
           "automargin": true,
           "gridcolor": "white",
           "linecolor": "white",
           "ticks": "",
           "title": {
            "standoff": 15
           },
           "zerolinecolor": "white",
           "zerolinewidth": 2
          },
          "yaxis": {
           "automargin": true,
           "gridcolor": "white",
           "linecolor": "white",
           "ticks": "",
           "title": {
            "standoff": 15
           },
           "zerolinecolor": "white",
           "zerolinewidth": 2
          }
         }
        },
        "xaxis": {
         "anchor": "y",
         "domain": [
          0,
          0.98
         ],
         "title": {
          "text": "t"
         }
        },
        "xaxis2": {
         "anchor": "y2",
         "domain": [
          0,
          0.98
         ],
         "matches": "x",
         "showticklabels": false
        },
        "xaxis3": {
         "anchor": "y3",
         "domain": [
          0,
          0.98
         ],
         "matches": "x",
         "showticklabels": false
        },
        "xaxis4": {
         "anchor": "y4",
         "domain": [
          0,
          0.98
         ],
         "matches": "x",
         "showticklabels": false
        },
        "xaxis5": {
         "anchor": "y5",
         "domain": [
          0,
          0.98
         ],
         "matches": "x",
         "showticklabels": false
        },
        "yaxis": {
         "anchor": "x",
         "domain": [
          0,
          0.17600000000000002
         ],
         "title": {
          "text": "price"
         }
        },
        "yaxis2": {
         "anchor": "x2",
         "domain": [
          0.20600000000000002,
          0.382
         ],
         "matches": "y",
         "title": {
          "text": "price"
         }
        },
        "yaxis3": {
         "anchor": "x3",
         "domain": [
          0.41200000000000003,
          0.5880000000000001
         ],
         "matches": "y",
         "title": {
          "text": "price"
         }
        },
        "yaxis4": {
         "anchor": "x4",
         "domain": [
          0.618,
          0.794
         ],
         "matches": "y",
         "title": {
          "text": "price"
         }
        },
        "yaxis5": {
         "anchor": "x5",
         "domain": [
          0.8240000000000001,
          1
         ],
         "matches": "y",
         "title": {
          "text": "price"
         }
        }
       }
      }
     },
     "metadata": {},
     "output_type": "display_data"
    }
   ],
   "source": [
    "sample_paths = np.random.choice(100, size=5, replace=False)\n",
    "df = high_low_policy.results.loc[high_low_policy.results.N.isin(sample_paths), :]\n",
    "px.line(data_frame=df, x=\"t\", y=\"price\", facet_row=\"N\", height=800)"
   ]
  },
  {
   "cell_type": "markdown",
   "metadata": {},
   "source": [
    "The average amount of money that we make selling the asset depends of course on the values of `theta_low` and `theta_high`. If we for example  set `theta_low` to a higher value, it seems that the average profit is higher (note that it will be slightly different every time we execute the cell)."
   ]
  },
  {
   "cell_type": "code",
   "execution_count": 5,
   "metadata": {},
   "outputs": [
    {
     "data": {
      "text/plain": [
       "21.336484998077623"
      ]
     },
     "execution_count": 5,
     "metadata": {},
     "output_type": "execute_result"
    }
   ],
   "source": [
    "high_low_policy.theta_low = 19\n",
    "high_low_policy.run_policy(n_iterations=100)"
   ]
  },
  {
   "cell_type": "markdown",
   "metadata": {},
   "source": [
    "Next, we will try to find the best value for `theta_low` and `theta_high`. This is called *parameter tuning*. To do this, we just systematically try out different combinations of values for both. This strategy is called a *grid search* and there is a simple convenience method to automate this."
   ]
  },
  {
   "cell_type": "code",
   "execution_count": 6,
   "metadata": {},
   "outputs": [
    {
     "name": "stdout",
     "output_type": "stream",
     "text": [
      "Best parameters: {'theta_low': 19.0, 'theta_high': 29.0} with an objective of 22.984525332163354.\n"
     ]
    }
   ],
   "source": [
    "# Define a grid for combinations of theta_low and theta_high.\n",
    "# theta_low should not be larger than the starting price (20) and theta_high should not be smaller than the starting price.\n",
    "grid = {\"theta_low\": np.linspace(10, 20, 11), \"theta_high\": np.linspace(20, 30, 11)}\n",
    "result = util.grid_search(grid, high_low_policy, n_iterations=10, ordered=True)\n",
    "\n",
    "print(f\"Best parameters: {result['best_parameters']} with an objective of {result['best_performance']}.\")"
   ]
  },
  {
   "cell_type": "markdown",
   "metadata": {},
   "source": [
    "The result object gives us the best parameters and the corresponding performance but it gives also information about all the runs. We transform them into matrix form and visualize them with a heatmap."
   ]
  },
  {
   "cell_type": "code",
   "execution_count": 7,
   "metadata": {},
   "outputs": [
    {
     "data": {
      "application/vnd.plotly.v1+json": {
       "config": {
        "plotlyServerURL": "https://plot.ly"
       },
       "data": [
        {
         "coloraxis": "coloraxis",
         "hovertemplate": "theta_high: %{x}<br>theta_low: %{y}<br>color: %{z}<extra></extra>",
         "name": "0",
         "type": "heatmap",
         "x": {
          "bdata": "AAAAAAAANEAAAAAAAAA1QAAAAAAAADZAAAAAAAAAN0AAAAAAAAA4QAAAAAAAADlAAAAAAAAAOkAAAAAAAAA7QAAAAAAAADxAAAAAAAAAPUAAAAAAAAA+QA==",
          "dtype": "f8"
         },
         "xaxis": "x",
         "y": {
          "bdata": "AAAAAAAAJEAAAAAAAAAmQAAAAAAAAChAAAAAAAAAKkAAAAAAAAAsQAAAAAAAAC5AAAAAAAAAMEAAAAAAAAAxQAAAAAAAADJAAAAAAAAAM0AAAAAAAAA0QA==",
          "dtype": "f8"
         },
         "yaxis": "y",
         "z": {
          "bdata": "OaNBQaJbNECI4N60i+k0QJx3PCaMUzRAw7eGflqaNUAB6u3GTWUyQEbs8NTpHTJAouk2d2YQMkCYrn8vISwzQJrggdw0JDNAdlqznC1bM0CIH0hnUHMxQDmjQUGiWzRAiODetIvpNECcdzwmjFM0QNv0kM2HTDRAAertxk1lMkBG7PDU6R0yQHJNDG43xDBAjrIKysiEMUCKDZ6V8ZMzQGaHz1XqyjNAAc+CtXnEMUCWOae4ir4zQOV2RCx0TDRA7o1O7OdPM0AuC6OT40gzQLlT+PrG1jRAxaOwGibrMkBOswCRfBUxQCZfYzVLpTFA6P0knTXJM0DDd1ZdLgA0QOtk5ykpxjJALs2CBhl8M0D1G7LGtFE0QLNUGsUjzjRA4HuuFnlNM0BWN7LiQQY1QG4SXP2iFzNAFkToKW+wMUDu70rOPUAyQMx955+yYDRAp/cYYKuXNEADPG/4AAAzQBJDrgPO3TNAPbly8s5bNEAuWIF55R01QHoCHZFVXDVAVjey4kEGNUDZMpdhiQY1QPsA8PlYmTNA4nZMORkSM0D0FPnnHNoyQM+OKqgVETNALL+V20nzMUAZxb8mooEzQEWgLGhb9TNA0niP/yCrNECjU4TIz9c1QPM6daXHkDRAic/zCySiMkBgLA4e9AgzQEzIq8BJnzNAxZDHpPLcM0C97YeQhH00QHdEbpC9oTRAOI6Lnxp+M0Bkafjg0/EzQPFBW3iZpzRAwhxQQUjUNUAs8+F3lOM0QPB3b6j1eTNA9g4UJGkQNUA6g/nAzWE1QB3bPvEbyjVAME3JEkaKNEB3RG6QvaE0QE8AB/IruTRAuW43DPyeM0D6hJBcARo0QGEQOnR7YTVAoH0C3GJnNEBGxroeOZszQC4ZDgqoiTVAOoP5wM1hNUAd2z7xG8o1QDBNyRJGijRAZUGB1ENhM0BPAAfyK7k0QA3VHBCWTzNA+oSQXAEaNEBhEDp0e2E1QKB9AtxiZzRAvLo2EzUeNEAuGQ4KqIk1QDpX2PcM7TVAZgEcP2U2NkCAP7U+qc41QP4/A7uF2jRApHdzup6oNECeizFnM6A0QEbRr+6SxzRAK9E7uv1KNECMqlLk1Vw0QBqiW/qG9zRAhyZoBhuGNUC1D1R6rok2QE5S6vWbzTVAo7kn2gn8NkAlRgDjJNI1QAAAAAAAAPh/p8g0gpigM0AWWvj87PszQHgwaBpFEzRAeDBoGkUTNEB1WiK6YOAzQHVaIrpg4DNAHVMaW3pHNEAdUxpbekc0QB1TGlt6RzRAHVMaW3pHNEA=",
          "dtype": "f8",
          "shape": "11, 11"
         }
        }
       ],
       "layout": {
        "coloraxis": {
         "colorscale": [
          [
           0,
           "#0d0887"
          ],
          [
           0.1111111111111111,
           "#46039f"
          ],
          [
           0.2222222222222222,
           "#7201a8"
          ],
          [
           0.3333333333333333,
           "#9c179e"
          ],
          [
           0.4444444444444444,
           "#bd3786"
          ],
          [
           0.5555555555555556,
           "#d8576b"
          ],
          [
           0.6666666666666666,
           "#ed7953"
          ],
          [
           0.7777777777777778,
           "#fb9f3a"
          ],
          [
           0.8888888888888888,
           "#fdca26"
          ],
          [
           1,
           "#f0f921"
          ]
         ]
        },
        "margin": {
         "t": 60
        },
        "template": {
         "data": {
          "bar": [
           {
            "error_x": {
             "color": "#2a3f5f"
            },
            "error_y": {
             "color": "#2a3f5f"
            },
            "marker": {
             "line": {
              "color": "#E5ECF6",
              "width": 0.5
             },
             "pattern": {
              "fillmode": "overlay",
              "size": 10,
              "solidity": 0.2
             }
            },
            "type": "bar"
           }
          ],
          "barpolar": [
           {
            "marker": {
             "line": {
              "color": "#E5ECF6",
              "width": 0.5
             },
             "pattern": {
              "fillmode": "overlay",
              "size": 10,
              "solidity": 0.2
             }
            },
            "type": "barpolar"
           }
          ],
          "carpet": [
           {
            "aaxis": {
             "endlinecolor": "#2a3f5f",
             "gridcolor": "white",
             "linecolor": "white",
             "minorgridcolor": "white",
             "startlinecolor": "#2a3f5f"
            },
            "baxis": {
             "endlinecolor": "#2a3f5f",
             "gridcolor": "white",
             "linecolor": "white",
             "minorgridcolor": "white",
             "startlinecolor": "#2a3f5f"
            },
            "type": "carpet"
           }
          ],
          "choropleth": [
           {
            "colorbar": {
             "outlinewidth": 0,
             "ticks": ""
            },
            "type": "choropleth"
           }
          ],
          "contour": [
           {
            "colorbar": {
             "outlinewidth": 0,
             "ticks": ""
            },
            "colorscale": [
             [
              0,
              "#0d0887"
             ],
             [
              0.1111111111111111,
              "#46039f"
             ],
             [
              0.2222222222222222,
              "#7201a8"
             ],
             [
              0.3333333333333333,
              "#9c179e"
             ],
             [
              0.4444444444444444,
              "#bd3786"
             ],
             [
              0.5555555555555556,
              "#d8576b"
             ],
             [
              0.6666666666666666,
              "#ed7953"
             ],
             [
              0.7777777777777778,
              "#fb9f3a"
             ],
             [
              0.8888888888888888,
              "#fdca26"
             ],
             [
              1,
              "#f0f921"
             ]
            ],
            "type": "contour"
           }
          ],
          "contourcarpet": [
           {
            "colorbar": {
             "outlinewidth": 0,
             "ticks": ""
            },
            "type": "contourcarpet"
           }
          ],
          "heatmap": [
           {
            "colorbar": {
             "outlinewidth": 0,
             "ticks": ""
            },
            "colorscale": [
             [
              0,
              "#0d0887"
             ],
             [
              0.1111111111111111,
              "#46039f"
             ],
             [
              0.2222222222222222,
              "#7201a8"
             ],
             [
              0.3333333333333333,
              "#9c179e"
             ],
             [
              0.4444444444444444,
              "#bd3786"
             ],
             [
              0.5555555555555556,
              "#d8576b"
             ],
             [
              0.6666666666666666,
              "#ed7953"
             ],
             [
              0.7777777777777778,
              "#fb9f3a"
             ],
             [
              0.8888888888888888,
              "#fdca26"
             ],
             [
              1,
              "#f0f921"
             ]
            ],
            "type": "heatmap"
           }
          ],
          "histogram": [
           {
            "marker": {
             "pattern": {
              "fillmode": "overlay",
              "size": 10,
              "solidity": 0.2
             }
            },
            "type": "histogram"
           }
          ],
          "histogram2d": [
           {
            "colorbar": {
             "outlinewidth": 0,
             "ticks": ""
            },
            "colorscale": [
             [
              0,
              "#0d0887"
             ],
             [
              0.1111111111111111,
              "#46039f"
             ],
             [
              0.2222222222222222,
              "#7201a8"
             ],
             [
              0.3333333333333333,
              "#9c179e"
             ],
             [
              0.4444444444444444,
              "#bd3786"
             ],
             [
              0.5555555555555556,
              "#d8576b"
             ],
             [
              0.6666666666666666,
              "#ed7953"
             ],
             [
              0.7777777777777778,
              "#fb9f3a"
             ],
             [
              0.8888888888888888,
              "#fdca26"
             ],
             [
              1,
              "#f0f921"
             ]
            ],
            "type": "histogram2d"
           }
          ],
          "histogram2dcontour": [
           {
            "colorbar": {
             "outlinewidth": 0,
             "ticks": ""
            },
            "colorscale": [
             [
              0,
              "#0d0887"
             ],
             [
              0.1111111111111111,
              "#46039f"
             ],
             [
              0.2222222222222222,
              "#7201a8"
             ],
             [
              0.3333333333333333,
              "#9c179e"
             ],
             [
              0.4444444444444444,
              "#bd3786"
             ],
             [
              0.5555555555555556,
              "#d8576b"
             ],
             [
              0.6666666666666666,
              "#ed7953"
             ],
             [
              0.7777777777777778,
              "#fb9f3a"
             ],
             [
              0.8888888888888888,
              "#fdca26"
             ],
             [
              1,
              "#f0f921"
             ]
            ],
            "type": "histogram2dcontour"
           }
          ],
          "mesh3d": [
           {
            "colorbar": {
             "outlinewidth": 0,
             "ticks": ""
            },
            "type": "mesh3d"
           }
          ],
          "parcoords": [
           {
            "line": {
             "colorbar": {
              "outlinewidth": 0,
              "ticks": ""
             }
            },
            "type": "parcoords"
           }
          ],
          "pie": [
           {
            "automargin": true,
            "type": "pie"
           }
          ],
          "scatter": [
           {
            "fillpattern": {
             "fillmode": "overlay",
             "size": 10,
             "solidity": 0.2
            },
            "type": "scatter"
           }
          ],
          "scatter3d": [
           {
            "line": {
             "colorbar": {
              "outlinewidth": 0,
              "ticks": ""
             }
            },
            "marker": {
             "colorbar": {
              "outlinewidth": 0,
              "ticks": ""
             }
            },
            "type": "scatter3d"
           }
          ],
          "scattercarpet": [
           {
            "marker": {
             "colorbar": {
              "outlinewidth": 0,
              "ticks": ""
             }
            },
            "type": "scattercarpet"
           }
          ],
          "scattergeo": [
           {
            "marker": {
             "colorbar": {
              "outlinewidth": 0,
              "ticks": ""
             }
            },
            "type": "scattergeo"
           }
          ],
          "scattergl": [
           {
            "marker": {
             "colorbar": {
              "outlinewidth": 0,
              "ticks": ""
             }
            },
            "type": "scattergl"
           }
          ],
          "scattermap": [
           {
            "marker": {
             "colorbar": {
              "outlinewidth": 0,
              "ticks": ""
             }
            },
            "type": "scattermap"
           }
          ],
          "scattermapbox": [
           {
            "marker": {
             "colorbar": {
              "outlinewidth": 0,
              "ticks": ""
             }
            },
            "type": "scattermapbox"
           }
          ],
          "scatterpolar": [
           {
            "marker": {
             "colorbar": {
              "outlinewidth": 0,
              "ticks": ""
             }
            },
            "type": "scatterpolar"
           }
          ],
          "scatterpolargl": [
           {
            "marker": {
             "colorbar": {
              "outlinewidth": 0,
              "ticks": ""
             }
            },
            "type": "scatterpolargl"
           }
          ],
          "scatterternary": [
           {
            "marker": {
             "colorbar": {
              "outlinewidth": 0,
              "ticks": ""
             }
            },
            "type": "scatterternary"
           }
          ],
          "surface": [
           {
            "colorbar": {
             "outlinewidth": 0,
             "ticks": ""
            },
            "colorscale": [
             [
              0,
              "#0d0887"
             ],
             [
              0.1111111111111111,
              "#46039f"
             ],
             [
              0.2222222222222222,
              "#7201a8"
             ],
             [
              0.3333333333333333,
              "#9c179e"
             ],
             [
              0.4444444444444444,
              "#bd3786"
             ],
             [
              0.5555555555555556,
              "#d8576b"
             ],
             [
              0.6666666666666666,
              "#ed7953"
             ],
             [
              0.7777777777777778,
              "#fb9f3a"
             ],
             [
              0.8888888888888888,
              "#fdca26"
             ],
             [
              1,
              "#f0f921"
             ]
            ],
            "type": "surface"
           }
          ],
          "table": [
           {
            "cells": {
             "fill": {
              "color": "#EBF0F8"
             },
             "line": {
              "color": "white"
             }
            },
            "header": {
             "fill": {
              "color": "#C8D4E3"
             },
             "line": {
              "color": "white"
             }
            },
            "type": "table"
           }
          ]
         },
         "layout": {
          "annotationdefaults": {
           "arrowcolor": "#2a3f5f",
           "arrowhead": 0,
           "arrowwidth": 1
          },
          "autotypenumbers": "strict",
          "coloraxis": {
           "colorbar": {
            "outlinewidth": 0,
            "ticks": ""
           }
          },
          "colorscale": {
           "diverging": [
            [
             0,
             "#8e0152"
            ],
            [
             0.1,
             "#c51b7d"
            ],
            [
             0.2,
             "#de77ae"
            ],
            [
             0.3,
             "#f1b6da"
            ],
            [
             0.4,
             "#fde0ef"
            ],
            [
             0.5,
             "#f7f7f7"
            ],
            [
             0.6,
             "#e6f5d0"
            ],
            [
             0.7,
             "#b8e186"
            ],
            [
             0.8,
             "#7fbc41"
            ],
            [
             0.9,
             "#4d9221"
            ],
            [
             1,
             "#276419"
            ]
           ],
           "sequential": [
            [
             0,
             "#0d0887"
            ],
            [
             0.1111111111111111,
             "#46039f"
            ],
            [
             0.2222222222222222,
             "#7201a8"
            ],
            [
             0.3333333333333333,
             "#9c179e"
            ],
            [
             0.4444444444444444,
             "#bd3786"
            ],
            [
             0.5555555555555556,
             "#d8576b"
            ],
            [
             0.6666666666666666,
             "#ed7953"
            ],
            [
             0.7777777777777778,
             "#fb9f3a"
            ],
            [
             0.8888888888888888,
             "#fdca26"
            ],
            [
             1,
             "#f0f921"
            ]
           ],
           "sequentialminus": [
            [
             0,
             "#0d0887"
            ],
            [
             0.1111111111111111,
             "#46039f"
            ],
            [
             0.2222222222222222,
             "#7201a8"
            ],
            [
             0.3333333333333333,
             "#9c179e"
            ],
            [
             0.4444444444444444,
             "#bd3786"
            ],
            [
             0.5555555555555556,
             "#d8576b"
            ],
            [
             0.6666666666666666,
             "#ed7953"
            ],
            [
             0.7777777777777778,
             "#fb9f3a"
            ],
            [
             0.8888888888888888,
             "#fdca26"
            ],
            [
             1,
             "#f0f921"
            ]
           ]
          },
          "colorway": [
           "#636efa",
           "#EF553B",
           "#00cc96",
           "#ab63fa",
           "#FFA15A",
           "#19d3f3",
           "#FF6692",
           "#B6E880",
           "#FF97FF",
           "#FECB52"
          ],
          "font": {
           "color": "#2a3f5f"
          },
          "geo": {
           "bgcolor": "white",
           "lakecolor": "white",
           "landcolor": "#E5ECF6",
           "showlakes": true,
           "showland": true,
           "subunitcolor": "white"
          },
          "hoverlabel": {
           "align": "left"
          },
          "hovermode": "closest",
          "mapbox": {
           "style": "light"
          },
          "paper_bgcolor": "white",
          "plot_bgcolor": "#E5ECF6",
          "polar": {
           "angularaxis": {
            "gridcolor": "white",
            "linecolor": "white",
            "ticks": ""
           },
           "bgcolor": "#E5ECF6",
           "radialaxis": {
            "gridcolor": "white",
            "linecolor": "white",
            "ticks": ""
           }
          },
          "scene": {
           "xaxis": {
            "backgroundcolor": "#E5ECF6",
            "gridcolor": "white",
            "gridwidth": 2,
            "linecolor": "white",
            "showbackground": true,
            "ticks": "",
            "zerolinecolor": "white"
           },
           "yaxis": {
            "backgroundcolor": "#E5ECF6",
            "gridcolor": "white",
            "gridwidth": 2,
            "linecolor": "white",
            "showbackground": true,
            "ticks": "",
            "zerolinecolor": "white"
           },
           "zaxis": {
            "backgroundcolor": "#E5ECF6",
            "gridcolor": "white",
            "gridwidth": 2,
            "linecolor": "white",
            "showbackground": true,
            "ticks": "",
            "zerolinecolor": "white"
           }
          },
          "shapedefaults": {
           "line": {
            "color": "#2a3f5f"
           }
          },
          "ternary": {
           "aaxis": {
            "gridcolor": "white",
            "linecolor": "white",
            "ticks": ""
           },
           "baxis": {
            "gridcolor": "white",
            "linecolor": "white",
            "ticks": ""
           },
           "bgcolor": "#E5ECF6",
           "caxis": {
            "gridcolor": "white",
            "linecolor": "white",
            "ticks": ""
           }
          },
          "title": {
           "x": 0.05
          },
          "xaxis": {
           "automargin": true,
           "gridcolor": "white",
           "linecolor": "white",
           "ticks": "",
           "title": {
            "standoff": 15
           },
           "zerolinecolor": "white",
           "zerolinewidth": 2
          },
          "yaxis": {
           "automargin": true,
           "gridcolor": "white",
           "linecolor": "white",
           "ticks": "",
           "title": {
            "standoff": 15
           },
           "zerolinecolor": "white",
           "zerolinewidth": 2
          }
         }
        },
        "xaxis": {
         "anchor": "y",
         "constrain": "domain",
         "domain": [
          0,
          1
         ],
         "scaleanchor": "y",
         "title": {
          "text": "theta_high"
         }
        },
        "yaxis": {
         "anchor": "x",
         "autorange": "reversed",
         "constrain": "domain",
         "domain": [
          0,
          1
         ],
         "title": {
          "text": "theta_low"
         }
        }
       }
      }
     },
     "metadata": {},
     "output_type": "display_data"
    }
   ],
   "source": [
    "res_grid = result[\"all_runs\"].pivot(index=\"theta_low\", columns=\"theta_high\", values=\"performance\")\n",
    "px.imshow(res_grid)"
   ]
  },
  {
   "cell_type": "markdown",
   "metadata": {},
   "source": [
    "Apparently, with the given uncertainty model and the high-low policy, the best profit is only slightly above the start price."
   ]
  },
  {
   "cell_type": "markdown",
   "metadata": {},
   "source": [
    "## Exercise 2\n",
    "1. Create an instance of the tracking policy that is implemented in the class `TrackPolicy` in the module `AssetSellingPolicies` and run the policy for 100 iterations. Describe in your own words how this policy makes a decision. \n",
    "2. The policy has one tunable parameter `theta`. Run a grid search to find the best value for `theta`. Is the tracking policy better than the high-low policy?"
   ]
  },
  {
   "cell_type": "markdown",
   "metadata": {},
   "source": [
    "---"
   ]
  },
  {
   "cell_type": "markdown",
   "metadata": {},
   "source": [
    "In the first version of our sequential decision model we used a stochastic model to generate observations. We now introduce a new version, where we draw sample obervations $W_{t+1}$ from historical data. Consider the following version of our problem:\n",
    "\n",
    "*You own a share of a company at the beginning of the month. Every day, you need to decide if you sell it (for the closing price of this day) or not. If by the end of the month the stock is still in your posession, it is sold at the closing price of the last day of the month.*\n",
    "\n",
    "To generate different observations for one month, we will use 10 years of historical data where we scale the data so each month starts at zero. This gives us 120 observations in total that we will use to tune our policy.\n",
    " \n",
    "As an example, we download data of the SAP stock using the package `yfinance` and reshape it to match our needs."
   ]
  },
  {
   "cell_type": "code",
   "execution_count": 9,
   "metadata": {},
   "outputs": [],
   "source": [
    "import yfinance as yf\n",
    "\n",
    "def get_historical_monthly_paths(stock_name, start=\"2014-01-01\", end=\"2023-12-31\"):\n",
    "    stock = yf.Ticker(stock_name)\n",
    "\n",
    "    # Get historical market data (this makes an API call to Yahoo Finance)\n",
    "    hist = stock.history(start=start, end=end, interval=\"1d\")\n",
    "\n",
    "    # We just keep the \"Close\" column\"\n",
    "    hist = hist.drop([\"Open\", \"High\", \"Low\", \"Volume\", \"Dividends\", \"Stock Splits\"], axis=1)\n",
    "\n",
    "    # Enumerate the months from the start and store as a separate column\n",
    "    hist[\"N\"] = hist.index.tz_convert(None).to_period('M')\n",
    "    hist[\"N\"] = hist[\"N\"].apply(lambda x: x.ordinal) - hist[\"N\"].iloc[0].ordinal\n",
    "\n",
    "    # Get the Close price at the beginning of every month and subtract from the Close value \n",
    "    hist_month_start = hist.groupby(\"N\").head(1).rename({\"Close\": \"Close_Month_Start\"}, axis=1)\n",
    "    hist_month_start = pd.merge(hist, hist_month_start, on=\"N\")\n",
    "    hist_month_start[\"price\"] = (hist_month_start[\"Close\"] - hist_month_start[\"Close_Month_Start\"])\n",
    "    \n",
    "    return hist_month_start.drop([\"Close\", \"Close_Month_Start\"], axis=1)\n",
    "\n",
    "hist_prices = get_historical_monthly_paths(stock_name=\"SAP\")"
   ]
  },
  {
   "cell_type": "markdown",
   "metadata": {},
   "source": [
    "Let's have a look at our historical sample paths $W_{t+1}$:"
   ]
  },
  {
   "cell_type": "code",
   "execution_count": 10,
   "metadata": {},
   "outputs": [
    {
     "data": {
      "text/html": [
       "<div>\n",
       "<style scoped>\n",
       "    .dataframe tbody tr th:only-of-type {\n",
       "        vertical-align: middle;\n",
       "    }\n",
       "\n",
       "    .dataframe tbody tr th {\n",
       "        vertical-align: top;\n",
       "    }\n",
       "\n",
       "    .dataframe thead th {\n",
       "        text-align: right;\n",
       "    }\n",
       "</style>\n",
       "<table border=\"1\" class=\"dataframe\">\n",
       "  <thead>\n",
       "    <tr style=\"text-align: right;\">\n",
       "      <th></th>\n",
       "      <th>N</th>\n",
       "      <th>price</th>\n",
       "    </tr>\n",
       "  </thead>\n",
       "  <tbody>\n",
       "    <tr>\n",
       "      <th>0</th>\n",
       "      <td>0</td>\n",
       "      <td>0.000000</td>\n",
       "    </tr>\n",
       "    <tr>\n",
       "      <th>1</th>\n",
       "      <td>0</td>\n",
       "      <td>-0.484016</td>\n",
       "    </tr>\n",
       "    <tr>\n",
       "      <th>2</th>\n",
       "      <td>0</td>\n",
       "      <td>-0.408928</td>\n",
       "    </tr>\n",
       "    <tr>\n",
       "      <th>3</th>\n",
       "      <td>0</td>\n",
       "      <td>-0.609200</td>\n",
       "    </tr>\n",
       "    <tr>\n",
       "      <th>4</th>\n",
       "      <td>0</td>\n",
       "      <td>0.450607</td>\n",
       "    </tr>\n",
       "    <tr>\n",
       "      <th>...</th>\n",
       "      <td>...</td>\n",
       "      <td>...</td>\n",
       "    </tr>\n",
       "    <tr>\n",
       "      <th>2511</th>\n",
       "      <td>119</td>\n",
       "      <td>-7.298416</td>\n",
       "    </tr>\n",
       "    <tr>\n",
       "      <th>2512</th>\n",
       "      <td>119</td>\n",
       "      <td>-6.824371</td>\n",
       "    </tr>\n",
       "    <tr>\n",
       "      <th>2513</th>\n",
       "      <td>119</td>\n",
       "      <td>-4.138077</td>\n",
       "    </tr>\n",
       "    <tr>\n",
       "      <th>2514</th>\n",
       "      <td>119</td>\n",
       "      <td>-5.688614</td>\n",
       "    </tr>\n",
       "    <tr>\n",
       "      <th>2515</th>\n",
       "      <td>119</td>\n",
       "      <td>-5.431839</td>\n",
       "    </tr>\n",
       "  </tbody>\n",
       "</table>\n",
       "<p>2516 rows × 2 columns</p>\n",
       "</div>"
      ],
      "text/plain": [
       "        N     price\n",
       "0       0  0.000000\n",
       "1       0 -0.484016\n",
       "2       0 -0.408928\n",
       "3       0 -0.609200\n",
       "4       0  0.450607\n",
       "...   ...       ...\n",
       "2511  119 -7.298416\n",
       "2512  119 -6.824371\n",
       "2513  119 -4.138077\n",
       "2514  119 -5.688614\n",
       "2515  119 -5.431839\n",
       "\n",
       "[2516 rows x 2 columns]"
      ]
     },
     "execution_count": 10,
     "metadata": {},
     "output_type": "execute_result"
    }
   ],
   "source": [
    "hist_prices"
   ]
  },
  {
   "cell_type": "markdown",
   "metadata": {},
   "source": [
    "We now create a new model where the exogenous information process is modified so that at each iteration, on month of the historical data is selected. We also create an instance of the high-low policy and run it for 120 iterations."
   ]
  },
  {
   "cell_type": "code",
   "execution_count": 12,
   "metadata": {},
   "outputs": [
    {
     "data": {
      "text/plain": [
       "0.5281281153361003"
      ]
     },
     "execution_count": 12,
     "metadata": {},
     "output_type": "execute_result"
    }
   ],
   "source": [
    "model_hist = asm.AssetSellingModelHistorical(hist_data=hist_prices)\n",
    "policy_hist = asp.HighLowPolicy(model=model_hist, theta_low=-10, theta_high=10)\n",
    "policy_hist.run_policy(n_iterations=120)"
   ]
  },
  {
   "cell_type": "markdown",
   "metadata": {},
   "source": [
    "Next, we need to optimize `theta_high` and  `theta_low`. To get a feeling for which values we might try, we first have a look at the distribution of monthly price deviations."
   ]
  },
  {
   "cell_type": "code",
   "execution_count": 13,
   "metadata": {},
   "outputs": [
    {
     "data": {
      "application/vnd.plotly.v1+json": {
       "config": {
        "plotlyServerURL": "https://plot.ly"
       },
       "data": [
        {
         "bingroup": "x",
         "hovertemplate": "price=%{x}<br>count=%{y}<extra></extra>",
         "legendgroup": "",
         "marker": {
          "color": "#636efa",
          "pattern": {
           "shape": ""
          }
         },
         "name": "",
         "orientation": "v",
         "showlegend": false,
         "type": "histogram",
         "x": {
          "bdata": "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",
          "dtype": "f8"
         },
         "xaxis": "x",
         "yaxis": "y"
        }
       ],
       "layout": {
        "barmode": "relative",
        "legend": {
         "tracegroupgap": 0
        },
        "margin": {
         "t": 60
        },
        "template": {
         "data": {
          "bar": [
           {
            "error_x": {
             "color": "#2a3f5f"
            },
            "error_y": {
             "color": "#2a3f5f"
            },
            "marker": {
             "line": {
              "color": "#E5ECF6",
              "width": 0.5
             },
             "pattern": {
              "fillmode": "overlay",
              "size": 10,
              "solidity": 0.2
             }
            },
            "type": "bar"
           }
          ],
          "barpolar": [
           {
            "marker": {
             "line": {
              "color": "#E5ECF6",
              "width": 0.5
             },
             "pattern": {
              "fillmode": "overlay",
              "size": 10,
              "solidity": 0.2
             }
            },
            "type": "barpolar"
           }
          ],
          "carpet": [
           {
            "aaxis": {
             "endlinecolor": "#2a3f5f",
             "gridcolor": "white",
             "linecolor": "white",
             "minorgridcolor": "white",
             "startlinecolor": "#2a3f5f"
            },
            "baxis": {
             "endlinecolor": "#2a3f5f",
             "gridcolor": "white",
             "linecolor": "white",
             "minorgridcolor": "white",
             "startlinecolor": "#2a3f5f"
            },
            "type": "carpet"
           }
          ],
          "choropleth": [
           {
            "colorbar": {
             "outlinewidth": 0,
             "ticks": ""
            },
            "type": "choropleth"
           }
          ],
          "contour": [
           {
            "colorbar": {
             "outlinewidth": 0,
             "ticks": ""
            },
            "colorscale": [
             [
              0,
              "#0d0887"
             ],
             [
              0.1111111111111111,
              "#46039f"
             ],
             [
              0.2222222222222222,
              "#7201a8"
             ],
             [
              0.3333333333333333,
              "#9c179e"
             ],
             [
              0.4444444444444444,
              "#bd3786"
             ],
             [
              0.5555555555555556,
              "#d8576b"
             ],
             [
              0.6666666666666666,
              "#ed7953"
             ],
             [
              0.7777777777777778,
              "#fb9f3a"
             ],
             [
              0.8888888888888888,
              "#fdca26"
             ],
             [
              1,
              "#f0f921"
             ]
            ],
            "type": "contour"
           }
          ],
          "contourcarpet": [
           {
            "colorbar": {
             "outlinewidth": 0,
             "ticks": ""
            },
            "type": "contourcarpet"
           }
          ],
          "heatmap": [
           {
            "colorbar": {
             "outlinewidth": 0,
             "ticks": ""
            },
            "colorscale": [
             [
              0,
              "#0d0887"
             ],
             [
              0.1111111111111111,
              "#46039f"
             ],
             [
              0.2222222222222222,
              "#7201a8"
             ],
             [
              0.3333333333333333,
              "#9c179e"
             ],
             [
              0.4444444444444444,
              "#bd3786"
             ],
             [
              0.5555555555555556,
              "#d8576b"
             ],
             [
              0.6666666666666666,
              "#ed7953"
             ],
             [
              0.7777777777777778,
              "#fb9f3a"
             ],
             [
              0.8888888888888888,
              "#fdca26"
             ],
             [
              1,
              "#f0f921"
             ]
            ],
            "type": "heatmap"
           }
          ],
          "histogram": [
           {
            "marker": {
             "pattern": {
              "fillmode": "overlay",
              "size": 10,
              "solidity": 0.2
             }
            },
            "type": "histogram"
           }
          ],
          "histogram2d": [
           {
            "colorbar": {
             "outlinewidth": 0,
             "ticks": ""
            },
            "colorscale": [
             [
              0,
              "#0d0887"
             ],
             [
              0.1111111111111111,
              "#46039f"
             ],
             [
              0.2222222222222222,
              "#7201a8"
             ],
             [
              0.3333333333333333,
              "#9c179e"
             ],
             [
              0.4444444444444444,
              "#bd3786"
             ],
             [
              0.5555555555555556,
              "#d8576b"
             ],
             [
              0.6666666666666666,
              "#ed7953"
             ],
             [
              0.7777777777777778,
              "#fb9f3a"
             ],
             [
              0.8888888888888888,
              "#fdca26"
             ],
             [
              1,
              "#f0f921"
             ]
            ],
            "type": "histogram2d"
           }
          ],
          "histogram2dcontour": [
           {
            "colorbar": {
             "outlinewidth": 0,
             "ticks": ""
            },
            "colorscale": [
             [
              0,
              "#0d0887"
             ],
             [
              0.1111111111111111,
              "#46039f"
             ],
             [
              0.2222222222222222,
              "#7201a8"
             ],
             [
              0.3333333333333333,
              "#9c179e"
             ],
             [
              0.4444444444444444,
              "#bd3786"
             ],
             [
              0.5555555555555556,
              "#d8576b"
             ],
             [
              0.6666666666666666,
              "#ed7953"
             ],
             [
              0.7777777777777778,
              "#fb9f3a"
             ],
             [
              0.8888888888888888,
              "#fdca26"
             ],
             [
              1,
              "#f0f921"
             ]
            ],
            "type": "histogram2dcontour"
           }
          ],
          "mesh3d": [
           {
            "colorbar": {
             "outlinewidth": 0,
             "ticks": ""
            },
            "type": "mesh3d"
           }
          ],
          "parcoords": [
           {
            "line": {
             "colorbar": {
              "outlinewidth": 0,
              "ticks": ""
             }
            },
            "type": "parcoords"
           }
          ],
          "pie": [
           {
            "automargin": true,
            "type": "pie"
           }
          ],
          "scatter": [
           {
            "fillpattern": {
             "fillmode": "overlay",
             "size": 10,
             "solidity": 0.2
            },
            "type": "scatter"
           }
          ],
          "scatter3d": [
           {
            "line": {
             "colorbar": {
              "outlinewidth": 0,
              "ticks": ""
             }
            },
            "marker": {
             "colorbar": {
              "outlinewidth": 0,
              "ticks": ""
             }
            },
            "type": "scatter3d"
           }
          ],
          "scattercarpet": [
           {
            "marker": {
             "colorbar": {
              "outlinewidth": 0,
              "ticks": ""
             }
            },
            "type": "scattercarpet"
           }
          ],
          "scattergeo": [
           {
            "marker": {
             "colorbar": {
              "outlinewidth": 0,
              "ticks": ""
             }
            },
            "type": "scattergeo"
           }
          ],
          "scattergl": [
           {
            "marker": {
             "colorbar": {
              "outlinewidth": 0,
              "ticks": ""
             }
            },
            "type": "scattergl"
           }
          ],
          "scattermap": [
           {
            "marker": {
             "colorbar": {
              "outlinewidth": 0,
              "ticks": ""
             }
            },
            "type": "scattermap"
           }
          ],
          "scattermapbox": [
           {
            "marker": {
             "colorbar": {
              "outlinewidth": 0,
              "ticks": ""
             }
            },
            "type": "scattermapbox"
           }
          ],
          "scatterpolar": [
           {
            "marker": {
             "colorbar": {
              "outlinewidth": 0,
              "ticks": ""
             }
            },
            "type": "scatterpolar"
           }
          ],
          "scatterpolargl": [
           {
            "marker": {
             "colorbar": {
              "outlinewidth": 0,
              "ticks": ""
             }
            },
            "type": "scatterpolargl"
           }
          ],
          "scatterternary": [
           {
            "marker": {
             "colorbar": {
              "outlinewidth": 0,
              "ticks": ""
             }
            },
            "type": "scatterternary"
           }
          ],
          "surface": [
           {
            "colorbar": {
             "outlinewidth": 0,
             "ticks": ""
            },
            "colorscale": [
             [
              0,
              "#0d0887"
             ],
             [
              0.1111111111111111,
              "#46039f"
             ],
             [
              0.2222222222222222,
              "#7201a8"
             ],
             [
              0.3333333333333333,
              "#9c179e"
             ],
             [
              0.4444444444444444,
              "#bd3786"
             ],
             [
              0.5555555555555556,
              "#d8576b"
             ],
             [
              0.6666666666666666,
              "#ed7953"
             ],
             [
              0.7777777777777778,
              "#fb9f3a"
             ],
             [
              0.8888888888888888,
              "#fdca26"
             ],
             [
              1,
              "#f0f921"
             ]
            ],
            "type": "surface"
           }
          ],
          "table": [
           {
            "cells": {
             "fill": {
              "color": "#EBF0F8"
             },
             "line": {
              "color": "white"
             }
            },
            "header": {
             "fill": {
              "color": "#C8D4E3"
             },
             "line": {
              "color": "white"
             }
            },
            "type": "table"
           }
          ]
         },
         "layout": {
          "annotationdefaults": {
           "arrowcolor": "#2a3f5f",
           "arrowhead": 0,
           "arrowwidth": 1
          },
          "autotypenumbers": "strict",
          "coloraxis": {
           "colorbar": {
            "outlinewidth": 0,
            "ticks": ""
           }
          },
          "colorscale": {
           "diverging": [
            [
             0,
             "#8e0152"
            ],
            [
             0.1,
             "#c51b7d"
            ],
            [
             0.2,
             "#de77ae"
            ],
            [
             0.3,
             "#f1b6da"
            ],
            [
             0.4,
             "#fde0ef"
            ],
            [
             0.5,
             "#f7f7f7"
            ],
            [
             0.6,
             "#e6f5d0"
            ],
            [
             0.7,
             "#b8e186"
            ],
            [
             0.8,
             "#7fbc41"
            ],
            [
             0.9,
             "#4d9221"
            ],
            [
             1,
             "#276419"
            ]
           ],
           "sequential": [
            [
             0,
             "#0d0887"
            ],
            [
             0.1111111111111111,
             "#46039f"
            ],
            [
             0.2222222222222222,
             "#7201a8"
            ],
            [
             0.3333333333333333,
             "#9c179e"
            ],
            [
             0.4444444444444444,
             "#bd3786"
            ],
            [
             0.5555555555555556,
             "#d8576b"
            ],
            [
             0.6666666666666666,
             "#ed7953"
            ],
            [
             0.7777777777777778,
             "#fb9f3a"
            ],
            [
             0.8888888888888888,
             "#fdca26"
            ],
            [
             1,
             "#f0f921"
            ]
           ],
           "sequentialminus": [
            [
             0,
             "#0d0887"
            ],
            [
             0.1111111111111111,
             "#46039f"
            ],
            [
             0.2222222222222222,
             "#7201a8"
            ],
            [
             0.3333333333333333,
             "#9c179e"
            ],
            [
             0.4444444444444444,
             "#bd3786"
            ],
            [
             0.5555555555555556,
             "#d8576b"
            ],
            [
             0.6666666666666666,
             "#ed7953"
            ],
            [
             0.7777777777777778,
             "#fb9f3a"
            ],
            [
             0.8888888888888888,
             "#fdca26"
            ],
            [
             1,
             "#f0f921"
            ]
           ]
          },
          "colorway": [
           "#636efa",
           "#EF553B",
           "#00cc96",
           "#ab63fa",
           "#FFA15A",
           "#19d3f3",
           "#FF6692",
           "#B6E880",
           "#FF97FF",
           "#FECB52"
          ],
          "font": {
           "color": "#2a3f5f"
          },
          "geo": {
           "bgcolor": "white",
           "lakecolor": "white",
           "landcolor": "#E5ECF6",
           "showlakes": true,
           "showland": true,
           "subunitcolor": "white"
          },
          "hoverlabel": {
           "align": "left"
          },
          "hovermode": "closest",
          "mapbox": {
           "style": "light"
          },
          "paper_bgcolor": "white",
          "plot_bgcolor": "#E5ECF6",
          "polar": {
           "angularaxis": {
            "gridcolor": "white",
            "linecolor": "white",
            "ticks": ""
           },
           "bgcolor": "#E5ECF6",
           "radialaxis": {
            "gridcolor": "white",
            "linecolor": "white",
            "ticks": ""
           }
          },
          "scene": {
           "xaxis": {
            "backgroundcolor": "#E5ECF6",
            "gridcolor": "white",
            "gridwidth": 2,
            "linecolor": "white",
            "showbackground": true,
            "ticks": "",
            "zerolinecolor": "white"
           },
           "yaxis": {
            "backgroundcolor": "#E5ECF6",
            "gridcolor": "white",
            "gridwidth": 2,
            "linecolor": "white",
            "showbackground": true,
            "ticks": "",
            "zerolinecolor": "white"
           },
           "zaxis": {
            "backgroundcolor": "#E5ECF6",
            "gridcolor": "white",
            "gridwidth": 2,
            "linecolor": "white",
            "showbackground": true,
            "ticks": "",
            "zerolinecolor": "white"
           }
          },
          "shapedefaults": {
           "line": {
            "color": "#2a3f5f"
           }
          },
          "ternary": {
           "aaxis": {
            "gridcolor": "white",
            "linecolor": "white",
            "ticks": ""
           },
           "baxis": {
            "gridcolor": "white",
            "linecolor": "white",
            "ticks": ""
           },
           "bgcolor": "#E5ECF6",
           "caxis": {
            "gridcolor": "white",
            "linecolor": "white",
            "ticks": ""
           }
          },
          "title": {
           "x": 0.05
          },
          "xaxis": {
           "automargin": true,
           "gridcolor": "white",
           "linecolor": "white",
           "ticks": "",
           "title": {
            "standoff": 15
           },
           "zerolinecolor": "white",
           "zerolinewidth": 2
          },
          "yaxis": {
           "automargin": true,
           "gridcolor": "white",
           "linecolor": "white",
           "ticks": "",
           "title": {
            "standoff": 15
           },
           "zerolinecolor": "white",
           "zerolinewidth": 2
          }
         }
        },
        "xaxis": {
         "anchor": "y",
         "domain": [
          0,
          1
         ],
         "title": {
          "text": "price"
         }
        },
        "yaxis": {
         "anchor": "x",
         "domain": [
          0,
          1
         ],
         "title": {
          "text": "count"
         }
        }
       }
      }
     },
     "metadata": {},
     "output_type": "display_data"
    }
   ],
   "source": [
    "px.histogram(hist_prices, x=\"price\")"
   ]
  },
  {
   "cell_type": "markdown",
   "metadata": {},
   "source": [
    "We see that during one month, the difference of the stock price to the price at the beginning of the month is usually between -30 and +30 (with some outliers). We do a grid search on a 16x16 grid to find the best combination of `theta_low` and `theta_high`."
   ]
  },
  {
   "cell_type": "code",
   "execution_count": 14,
   "metadata": {},
   "outputs": [
    {
     "name": "stdout",
     "output_type": "stream",
     "text": [
      "Best parameters: {'theta_low': -4.0, 'theta_high': 22.0} with an objective of 1.1821554183959961.\n"
     ]
    }
   ],
   "source": [
    "grid = {\"theta_low\": np.linspace(-30, 0, 16), \"theta_high\": np.linspace(0, 30, 16)}\n",
    "result = util.grid_search(grid, policy_hist, n_iterations=120, ordered=True)\n",
    "\n",
    "print(f\"Best parameters: {result['best_parameters']} with an objective of {result['best_performance']}.\")"
   ]
  },
  {
   "cell_type": "markdown",
   "metadata": {},
   "source": [
    "## Exercise 3\n",
    "Go to https://finance.yahoo.com/ to look up names and historical charts of stocks. Repeat the steps above with a stock of your choice (Tesla? Wirecard? ...?). You should be able to use the function `get_historical_monthly_paths` from above to get the data in the appropriate format.Try to find a policy, i.e. \"sell-low\", \"high-low\", or \"track\", with corresponding parameters that maximizes the expected profit.\n",
    "\n",
    "---"
   ]
  }
 ],
 "metadata": {
  "kernelspec": {
   "display_name": "Python 3",
   "language": "python",
   "name": "python3"
  },
  "language_info": {
   "codemirror_mode": {
    "name": "ipython",
    "version": 3
   },
   "file_extension": ".py",
   "mimetype": "text/x-python",
   "name": "python",
   "nbconvert_exporter": "python",
   "pygments_lexer": "ipython3",
   "version": "3.12.2"
  }
 },
 "nbformat": 4,
 "nbformat_minor": 2
}
